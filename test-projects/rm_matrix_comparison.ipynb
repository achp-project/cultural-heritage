{
  "cells": [
    {
      "cell_type": "markdown",
      "metadata": {},
      "source": [
        "## RMs coincidence matrix"
      ]
    },
    {
      "cell_type": "code",
      "execution_count": null,
      "metadata": {
        "id": "quZ4MeQVqXO2"
      },
      "outputs": [],
      "source": [
        "!rm /content/cultural-heritage -R 2> /dev/null\n",
        "!git clone --quiet https://github.com/achp-project/cultural-heritage.git\n",
        "!pip install -q -r cultural-heritage/graph-parser/requirements.txt --quiet\n",
        "%cd cultural-heritage/graph-parser\n",
        "\n",
        "import urllib\n",
        "import json\n",
        "import pprint\n",
        "\n",
        "import graph_mixer as gm\n",
        "\n",
        "!mkdir -p /content/cultural-heritage/graph-parser/inputResourceModels\n",
        "\n",
        "\n",
        "# Recreate the input\n",
        "resource_models = gm.rm_list()\n",
        "for (project_name, resource_model_url) in resource_models.items():\n",
        "  with urllib.request.urlopen(resource_model_url) as f:\n",
        "    resource_model_data = f.read().decode(\"utf-8\")\n",
        "    with open(f\"/content/cultural-heritage/graph-parser/inputResourceModels/{project_name}.json\", 'w') as o:\n",
        "      o.write(resource_model_data)"
      ]
    },
    {
      "cell_type": "code",
      "execution_count": null,
      "metadata": {
        "id": "xwlmOnG8tU5b"
      },
      "outputs": [],
      "source": [
        "import pandas as pd\n",
        "!python graph_comparator.py inputResourceModels/*.json -m compare -mo -o output.csv\n",
        "pd.read_csv('output.csv')"
      ]
    },
    {
      "cell_type": "markdown",
      "metadata": {},
      "source": [
        "### Hierachical clustering"
      ]
    },
    {
      "cell_type": "code",
      "execution_count": null,
      "metadata": {},
      "outputs": [],
      "source": [
        "import numpy as np\n",
        "from scipy.cluster.hierarchy import linkage, dendrogram\n",
        "import matplotlib.pyplot as plt\n",
        "\n",
        "df = pd.read_csv('output.csv', index_col=0)\n",
        "# df = pd.read_csv('output.csv')\n",
        "# df = df.drop(df.columns[0], axis=1)\n",
        "linkage_matrix = linkage(df.values, method='ward')\n",
        "\n",
        "# Plot dendrogram\n",
        "dendrogram(linkage_matrix, labels=df.columns)\n",
        "plt.title('Hierarchical Clustering Dendrogram')\n",
        "plt.xlabel('Objects')\n",
        "plt.ylabel('Distance')\n",
        "plt.show()"
      ]
    }
  ],
  "metadata": {
    "colab": {
      "provenance": []
    },
    "kernelspec": {
      "display_name": "Python 3",
      "name": "python3"
    },
    "language_info": {
      "codemirror_mode": {
        "name": "ipython",
        "version": 3
      },
      "file_extension": ".py",
      "mimetype": "text/x-python",
      "name": "python",
      "nbconvert_exporter": "python",
      "pygments_lexer": "ipython3",
      "version": "3.11.2"
    }
  },
  "nbformat": 4,
  "nbformat_minor": 0
}
