{
  "cells": [
    {
      "cell_type": "code",
      "execution_count": null,
      "metadata": {
        "id": "WK29grXkk8Tg"
      },
      "outputs": [],
      "source": []
    },
    {
      "cell_type": "code",
      "source": [
        "!rm /content/cultural-heritage -R 2> /dev/null\n",
        "!git clone --quiet https://github.com/achp-project/cultural-heritage.git\n",
        "!pip install -q -r cultural-heritage/graph-parser/requirements.txt --quiet\n",
        "%cd cultural-heritage/graph-parser\n",
        "\n",
        "import urllib\n",
        "import json\n",
        "import pprint\n",
        "\n",
        "import graph_mixer as gm\n",
        "\n",
        "!mkdir -p /content/cultural-heritage/graph-parser/inputResourceModels\n",
        "\n",
        "\n",
        "# Recreate the input\n",
        "resource_models = gm.rm_list()\n",
        "for (project_name, resource_model_url) in resource_models.items():\n",
        "  with urllib.request.urlopen(resource_model_url) as f:\n",
        "    resource_model_data = f.read().decode(\"utf-8\")\n",
        "    with open(f\"/content/cultural-heritage/graph-parser/inputResourceModels/{project_name}.json\", 'w') as o:\n",
        "      o.write(resource_model_data)"
      ],
      "metadata": {
        "id": "quZ4MeQVqXO2"
      },
      "execution_count": null,
      "outputs": []
    },
    {
      "cell_type": "code",
      "source": [
        "import pandas as pd\n",
        "!python graph_comparator.py inputResourceModels/*.json -m compare -mo -o output.csv\n",
        "pd.read_csv('output.csv')"
      ],
      "metadata": {
        "id": "xwlmOnG8tU5b"
      },
      "execution_count": null,
      "outputs": []
    }
  ],
  "metadata": {
    "colab": {
      "provenance": []
    },
    "kernelspec": {
      "display_name": "Python 3",
      "name": "python3"
    },
    "language_info": {
      "codemirror_mode": {
        "name": "ipython",
        "version": 3
      },
      "file_extension": ".py",
      "mimetype": "text/x-python",
      "name": "python",
      "nbconvert_exporter": "python",
      "pygments_lexer": "ipython3",
      "version": "3.11.2"
    }
  },
  "nbformat": 4,
  "nbformat_minor": 0
}